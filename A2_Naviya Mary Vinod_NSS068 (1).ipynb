{
 "cells": [
  {
   "cell_type": "code",
   "execution_count": 1,
   "id": "b562de60",
   "metadata": {},
   "outputs": [],
   "source": [
    "import pandas as pd\n",
    "import numpy as np\n",
    "import statsmodels.api as sm\n",
    "from statsmodels.stats.outliers_influence import variance_inflation_factor"
   ]
  },
  {
   "cell_type": "code",
   "execution_count": 2,
   "id": "0cb9dabd",
   "metadata": {},
   "outputs": [],
   "source": [
    "import os\n",
    "os.chdir('C:\\\\Users\\\\naviy\\\\OneDrive\\\\Documents\\\\CHRIST UNIVERSITY, BANGALORE')"
   ]
  },
  {
   "cell_type": "code",
   "execution_count": 3,
   "id": "60c136cc",
   "metadata": {},
   "outputs": [
    {
     "name": "stderr",
     "output_type": "stream",
     "text": [
      "C:\\Users\\naviy\\AppData\\Local\\Temp\\ipykernel_13092\\2840125202.py:1: DtypeWarning: Columns (1) have mixed types. Specify dtype option on import or set low_memory=False.\n",
      "  data = pd.read_csv(\"C:\\\\Users\\\\naviy\\\\OneDrive\\\\Documents\\\\CHRIST UNIVERSITY, BANGALORE\\\\NSSO68.csv\")\n"
     ]
    }
   ],
   "source": [
    "data = pd.read_csv(\"C:\\\\Users\\\\naviy\\\\OneDrive\\\\Documents\\\\CHRIST UNIVERSITY, BANGALORE\\\\NSSO68.csv\")"
   ]
  },
  {
   "cell_type": "code",
   "execution_count": 4,
   "id": "7cc94c60",
   "metadata": {},
   "outputs": [
    {
     "data": {
      "text/plain": [
       "array(['GUJ', 'ORI', 'CHTSD', 'MP', 'JRKD', 'WB', 'AP', 'MH', 'D&D',\n",
       "       'D&NH', 'MIZ', 'TRPR', 'MANPR', 'ASSM', 'MEG', 'NAG', 'A&N',\n",
       "       'PNDCRY', 'TN', 'GOA', 'KA', 'KE', 'LKSDP', 'SKM', 'Bhr', 'UP',\n",
       "       'RJ', 'ARP', 'DL', 'HR', 'Pun', 'HP', 'UT', 'Chandr', 'J$K'],\n",
       "      dtype=object)"
      ]
     },
     "execution_count": 4,
     "metadata": {},
     "output_type": "execute_result"
    }
   ],
   "source": [
    "data['state_1'].unique()"
   ]
  },
  {
   "cell_type": "code",
   "execution_count": 5,
   "id": "a4fc8bcd",
   "metadata": {},
   "outputs": [
    {
     "name": "stdout",
     "output_type": "stream",
     "text": [
      "       foodtotal_q  MPCE_MRP  MPCE_URP  Age  Meals_At_Home  \\\n",
      "6777     18.308732   3818.86   3780.50   35           60.0   \n",
      "6778     29.781670   4100.08   4322.00   24           60.0   \n",
      "6779     18.412530   2333.55   1769.40   45           60.0   \n",
      "6780     24.025527   2284.85   1986.25   36           60.0   \n",
      "6781     22.070518   1952.06   1224.20   36           84.0   \n",
      "...            ...       ...       ...  ...            ...   \n",
      "79719    17.800203   1304.09   1344.50   26           90.0   \n",
      "79720    47.825207   2581.20   2613.50   50           60.0   \n",
      "79721    13.250154   1374.35   1820.50   32           60.0   \n",
      "79722    21.725427   1391.12   1900.50   18           90.0   \n",
      "79723     0.000000   1536.62   1348.00   14            0.0   \n",
      "\n",
      "       Possess_ration_card  Education  No_of_Meals_per_day  \n",
      "6777                   1.0        7.0                  2.0  \n",
      "6778                   2.0       10.0                  2.0  \n",
      "6779                   1.0        8.0                  2.0  \n",
      "6780                   1.0       12.0                  2.0  \n",
      "6781                   1.0        1.0                  3.0  \n",
      "...                    ...        ...                  ...  \n",
      "79719                  1.0        6.0                  3.0  \n",
      "79720                  2.0        8.0                  2.0  \n",
      "79721                  2.0       12.0                  2.0  \n",
      "79722                  1.0        1.0                  3.0  \n",
      "79723                  2.0        6.0                  2.0  \n",
      "\n",
      "[6899 rows x 8 columns]\n"
     ]
    }
   ],
   "source": [
    "#Subsetting the data\n",
    "subset_data = data[data['state_1'] == 'AP'][['foodtotal_q', 'MPCE_MRP', 'MPCE_URP', 'Age', 'Meals_At_Home', 'Possess_ration_card', 'Education', 'No_of_Meals_per_day']]\n",
    "print(subset_data)"
   ]
  },
  {
   "cell_type": "code",
   "execution_count": 6,
   "id": "e05c961c",
   "metadata": {},
   "outputs": [
    {
     "name": "stdout",
     "output_type": "stream",
     "text": [
      "0\n",
      "0\n",
      "0\n",
      "0\n",
      "7\n"
     ]
    }
   ],
   "source": [
    "#Checking for missing values\n",
    "print(subset_data['MPCE_MRP'].isna().sum())\n",
    "print(subset_data['MPCE_URP'].isna().sum())\n",
    "print(subset_data['Age'].isna().sum())\n",
    "print(subset_data['Possess_ration_card'].isna().sum())\n",
    "print(data['Education'].isna().sum())"
   ]
  },
  {
   "cell_type": "code",
   "execution_count": 7,
   "id": "39f6459f",
   "metadata": {},
   "outputs": [],
   "source": [
    "#Creating a function to impute th emissing values with the mean of the variable\n",
    "def impute_with_mean(data, columns):\n",
    "    for column in columns:\n",
    "        data[column].fillna(data[column].mean(), inplace=True)\n",
    "    return data"
   ]
  },
  {
   "cell_type": "code",
   "execution_count": 8,
   "id": "f86c302a",
   "metadata": {},
   "outputs": [],
   "source": [
    "#Imputiong the columns\n",
    "columns_to_impute = ['Education', 'MPCE_MRP', 'MPCE_URP', 'Age', 'Meals_At_Home', 'Possess_ration_card', 'foodtotal_q']"
   ]
  },
  {
   "cell_type": "code",
   "execution_count": 9,
   "id": "a24942a4",
   "metadata": {},
   "outputs": [],
   "source": [
    "subset_data = impute_with_mean(subset_data, columns_to_impute)"
   ]
  },
  {
   "cell_type": "code",
   "execution_count": 10,
   "id": "13f47a58",
   "metadata": {},
   "outputs": [
    {
     "name": "stdout",
     "output_type": "stream",
     "text": [
      "foodtotal_q            0\n",
      "MPCE_MRP               0\n",
      "MPCE_URP               0\n",
      "Age                    0\n",
      "Meals_At_Home          0\n",
      "Possess_ration_card    0\n",
      "Education              0\n",
      "No_of_Meals_per_day    0\n",
      "dtype: int64\n"
     ]
    }
   ],
   "source": [
    "print(subset_data.isna().sum()) "
   ]
  },
  {
   "cell_type": "code",
   "execution_count": 11,
   "id": "c23b35d8",
   "metadata": {},
   "outputs": [],
   "source": [
    "#Fitting the regression model\n",
    "X = subset_data[['MPCE_MRP', 'MPCE_URP', 'Age', 'Meals_At_Home', 'Possess_ration_card', 'Education']]\n",
    "X = sm.add_constant(X)  # Adds a constant term to the predictor\n",
    "y = subset_data['foodtotal_q']\n"
   ]
  },
  {
   "cell_type": "code",
   "execution_count": 12,
   "id": "53dc6fda",
   "metadata": {},
   "outputs": [],
   "source": [
    "model = sm.OLS(y, X).fit()"
   ]
  },
  {
   "cell_type": "code",
   "execution_count": 13,
   "id": "cfb699f3",
   "metadata": {},
   "outputs": [
    {
     "name": "stdout",
     "output_type": "stream",
     "text": [
      "                            OLS Regression Results                            \n",
      "==============================================================================\n",
      "Dep. Variable:            foodtotal_q   R-squared:                       0.310\n",
      "Model:                            OLS   Adj. R-squared:                  0.309\n",
      "Method:                 Least Squares   F-statistic:                     515.8\n",
      "Date:                Sun, 23 Jun 2024   Prob (F-statistic):               0.00\n",
      "Time:                        22:23:34   Log-Likelihood:                -23675.\n",
      "No. Observations:                6899   AIC:                         4.736e+04\n",
      "Df Residuals:                    6892   BIC:                         4.741e+04\n",
      "Df Model:                           6                                         \n",
      "Covariance Type:            nonrobust                                         \n",
      "=======================================================================================\n",
      "                          coef    std err          t      P>|t|      [0.025      0.975]\n",
      "---------------------------------------------------------------------------------------\n",
      "const                   8.3477      0.709     11.772      0.000       6.958       9.738\n",
      "MPCE_MRP                0.0020   8.19e-05     23.938      0.000       0.002       0.002\n",
      "MPCE_URP                0.0007   6.61e-05     10.862      0.000       0.001       0.001\n",
      "Age                     0.1503      0.007     20.868      0.000       0.136       0.164\n",
      "Meals_At_Home           0.0811      0.005     14.841      0.000       0.070       0.092\n",
      "Possess_ration_card    -3.0974      0.254    -12.211      0.000      -3.595      -2.600\n",
      "Education               0.0397      0.026      1.514      0.130      -0.012       0.091\n",
      "==============================================================================\n",
      "Omnibus:                     2474.988   Durbin-Watson:                   1.697\n",
      "Prob(Omnibus):                  0.000   Jarque-Bera (JB):           122442.713\n",
      "Skew:                           0.956   Prob(JB):                         0.00\n",
      "Kurtosis:                      23.550   Cond. No.                     3.22e+04\n",
      "==============================================================================\n",
      "\n",
      "Notes:\n",
      "[1] Standard Errors assume that the covariance matrix of the errors is correctly specified.\n",
      "[2] The condition number is large, 3.22e+04. This might indicate that there are\n",
      "strong multicollinearity or other numerical problems.\n"
     ]
    }
   ],
   "source": [
    "#Printinf the regression results\n",
    "print(model.summary())"
   ]
  },
  {
   "cell_type": "code",
   "execution_count": 14,
   "id": "f852d1d6",
   "metadata": {},
   "outputs": [],
   "source": [
    "#Checking for multicollinearity using Inflator Factor (VIF)\n",
    "vif_data = pd.DataFrame()\n",
    "vif_data['feature'] = X.columns\n",
    "vif_data['VIF'] = [variance_inflation_factor(X.values, i) for i in range(X.shape[1])]\n"
   ]
  },
  {
   "cell_type": "code",
   "execution_count": 15,
   "id": "e39dd8a7",
   "metadata": {},
   "outputs": [
    {
     "name": "stdout",
     "output_type": "stream",
     "text": [
      "               feature        VIF\n",
      "0                const  61.884058\n",
      "1             MPCE_MRP   2.566446\n",
      "2             MPCE_URP   2.311461\n",
      "3                  Age   1.134833\n",
      "4        Meals_At_Home   1.146450\n",
      "5  Possess_ration_card   1.213771\n",
      "6            Education   1.374596\n"
     ]
    }
   ],
   "source": [
    "print(vif_data)"
   ]
  },
  {
   "cell_type": "code",
   "execution_count": 16,
   "id": "f37e26fd",
   "metadata": {},
   "outputs": [],
   "source": [
    "#Extracting the coefficients from the model\n",
    "coefficients = model.params"
   ]
  },
  {
   "cell_type": "code",
   "execution_count": 17,
   "id": "1e11b84d",
   "metadata": {},
   "outputs": [
    {
     "name": "stdout",
     "output_type": "stream",
     "text": [
      "y = 8.35 + 0.001962*x1 + 0.000718*x2 + 0.150340*x3 + 0.081055*x4 + -3.097385*x5 + 0.039711*x6\n"
     ]
    }
   ],
   "source": [
    "#Constructing the equation\n",
    "equation = f\"y = {coefficients[0]:.2f}\"\n",
    "for i in range(1, len(coefficients)):\n",
    "    equation += f\" + {coefficients[i]:.6f}*x{i}\"\n",
    "print(equation)\n"
   ]
  },
  {
   "cell_type": "code",
   "execution_count": null,
   "id": "c12576f5",
   "metadata": {},
   "outputs": [],
   "source": []
  }
 ],
 "metadata": {
  "kernelspec": {
   "display_name": "Python 3 (ipykernel)",
   "language": "python",
   "name": "python3"
  },
  "language_info": {
   "codemirror_mode": {
    "name": "ipython",
    "version": 3
   },
   "file_extension": ".py",
   "mimetype": "text/x-python",
   "name": "python",
   "nbconvert_exporter": "python",
   "pygments_lexer": "ipython3",
   "version": "3.11.5"
  }
 },
 "nbformat": 4,
 "nbformat_minor": 5
}
